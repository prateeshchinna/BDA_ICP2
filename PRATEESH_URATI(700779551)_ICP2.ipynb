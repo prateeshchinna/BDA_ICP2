{
  "nbformat": 4,
  "nbformat_minor": 0,
  "metadata": {
    "colab": {
      "provenance": []
    },
    "kernelspec": {
      "name": "python3",
      "display_name": "Python 3"
    },
    "language_info": {
      "name": "python"
    }
  },
  "cells": [
    {
      "cell_type": "code",
      "execution_count": null,
      "metadata": {
        "id": "Kwgzco4sG2mg"
      },
      "outputs": [],
      "source": []
    },
    {
      "cell_type": "markdown",
      "source": [
        "# 1A"
      ],
      "metadata": {
        "id": "gcdZMaZ9LR50"
      }
    },
    {
      "cell_type": "markdown",
      "source": [
        "Difference between Counter.count and self._count:\n",
        "Counter.count is a class variable (shared by all instances)\n",
        "self.count is an instance variable (unique to each object)"
      ],
      "metadata": {
        "id": "kTTOPwuQIpJ0"
      }
    },
    {
      "cell_type": "markdown",
      "source": [
        "# 1B"
      ],
      "metadata": {
        "id": "y2JVhyXrLViL"
      }
    },
    {
      "cell_type": "markdown",
      "source": [
        "Output of a.get_counts() and b.get_counts()\n",
        "a.get_counts() → Instance count: 2, Class count: 3\n",
        "b.get_counts() → Instance count: 1, Class count: 3"
      ],
      "metadata": {
        "id": "8H8HD-MZI9lL"
      }
    },
    {
      "cell_type": "markdown",
      "source": [
        "# 1C"
      ],
      "metadata": {
        "id": "ToLk21ilLZEb"
      }
    },
    {
      "cell_type": "markdown",
      "source": [
        "How does increment() affect variables?\n",
        "It increases the instance variable self._count by 1.\n",
        "It also increases the class variable Counter.count by 1."
      ],
      "metadata": {
        "id": "JEqC4MfuJHHQ"
      }
    },
    {
      "cell_type": "markdown",
      "source": [
        "# 2"
      ],
      "metadata": {
        "id": "p9JejLTdLoVx"
      }
    },
    {
      "cell_type": "code",
      "source": [
        "#Bug-Free code solution\n",
        "def sum_all(*args):\n",
        "    return sum(args)\n",
        "\n",
        "print(\"Sum of 1, 2, 3 is:\", sum_all(1, 2, 3))\n",
        "print(\"Sum of 4, 5, 6, 7 is:\", sum_all(4, 5, 6, 7))"
      ],
      "metadata": {
        "colab": {
          "base_uri": "https://localhost:8080/"
        },
        "id": "d75gX6tWJ2BU",
        "outputId": "8debac6c-c9e4-445b-be70-153c029f05b3"
      },
      "execution_count": 14,
      "outputs": [
        {
          "output_type": "stream",
          "name": "stdout",
          "text": [
            "Sum of 1, 2, 3 is: 6\n",
            "Sum of 4, 5, 6, 7 is: 22\n"
          ]
        }
      ]
    },
    {
      "cell_type": "markdown",
      "source": [
        "# 3"
      ],
      "metadata": {
        "id": "fDEUuCtkLrMo"
      }
    },
    {
      "cell_type": "code",
      "source": [
        "def first_word(words):\n",
        "    words.sort()\n",
        "    return words[0]\n",
        "\n",
        "students = ['Mary', 'Zelda', 'Jimmy', 'Jack', 'Bartholomew', 'Gertrude']\n",
        "print(first_word(students))"
      ],
      "metadata": {
        "colab": {
          "base_uri": "https://localhost:8080/"
        },
        "id": "0lNX1vNKKIAW",
        "outputId": "36a116e3-4427-454a-f0dc-291f7ea1c78c"
      },
      "execution_count": 8,
      "outputs": [
        {
          "output_type": "stream",
          "name": "stdout",
          "text": [
            "Bartholomew\n"
          ]
        }
      ]
    },
    {
      "cell_type": "markdown",
      "source": [
        "# 4"
      ],
      "metadata": {
        "id": "o9M6T_dVLve2"
      }
    },
    {
      "cell_type": "code",
      "source": [
        "class Employee:\n",
        "    employee_count = 0\n",
        "\n",
        "    def __init__(self, name, family, salary, department):\n",
        "        self.name = name\n",
        "        self.family = family\n",
        "        self.salary = salary\n",
        "        self.department = department\n",
        "        Employee.employee_count += 1\n",
        "\n",
        "    def average_salary(self, total_salary):\n",
        "        return total_salary / Employee.employee_count\n",
        "\n",
        "    def display(self):\n",
        "        print(f\"Name: {self.name}, Family: {self.family}, Salary: {self.salary}, Department: {self.department}\")\n",
        "\n",
        "class FullTimeEmployee(Employee):\n",
        "    def __init__(self, name, family, salary, department):\n",
        "        super().__init__(name, family, salary, department)\n",
        "\n",
        "emp1 = FullTimeEmployee(\"PRATEESH\", \"URATI\", 150000, \"COMPUTER SCIENCE\")\n",
        "emp2 = FullTimeEmployee(\"VINAY REDDY\", \"NAGULA\", 150000, \"DSA\")\n",
        "\n",
        "emp1.display()\n",
        "emp2.display()\n",
        "\n",
        "total = emp1.salary + emp2.salary\n",
        "print(\"Average Salary:\", emp1.average_salary(total))"
      ],
      "metadata": {
        "colab": {
          "base_uri": "https://localhost:8080/"
        },
        "id": "XBlpa7ZLKLfj",
        "outputId": "6fe1a0ba-0c54-4a90-be67-15f574f4ffa8"
      },
      "execution_count": 12,
      "outputs": [
        {
          "output_type": "stream",
          "name": "stdout",
          "text": [
            "Name: PRATEESH, Family: URATI, Salary: 150000, Department: COMPUTER SCIENCE\n",
            "Name: VINAY REDDY, Family: NAGULA, Salary: 150000, Department: DSA\n",
            "Average Salary: 150000.0\n"
          ]
        }
      ]
    }
  ]
}